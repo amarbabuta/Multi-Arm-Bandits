{
 "cells": [
  {
   "cell_type": "markdown",
   "metadata": {},
   "source": [
    "# COMP90051 Project 2"
   ]
  },
  {
   "cell_type": "code",
   "execution_count": 1,
   "metadata": {},
   "outputs": [],
   "source": [
    "# Do not edit. These are the only imports permitted.\n",
    "%matplotlib inline\n",
    "import numpy as np\n",
    "from numpy.linalg import inv\n",
    "import matplotlib.pyplot as plt\n",
    "from abc import ABC, abstractmethod"
   ]
  },
  {
   "cell_type": "markdown",
   "metadata": {},
   "source": [
    "## 1. Implementing ε-Greedy and UCB"
   ]
  },
  {
   "cell_type": "code",
   "execution_count": 2,
   "metadata": {},
   "outputs": [],
   "source": [
    "class MAB(ABC):\n",
    "    \"\"\"\n",
    "    Abstract class that represents a multi-armed bandit (MAB)\n",
    "    \"\"\"\n",
    "    \n",
    "    @abstractmethod\n",
    "    def play(self, tround, context):\n",
    "        \"\"\"\n",
    "        Play a round\n",
    "        \n",
    "        Arguments\n",
    "        =========\n",
    "        tround : int\n",
    "            positive integer identifying the round\n",
    "        \n",
    "        context : 1D float array, shape (self.ndims * self.narms), optional\n",
    "            context given to the arms\n",
    "        \n",
    "        Returns\n",
    "        =======\n",
    "        arm : int\n",
    "            the positive integer arm id for this round\n",
    "        \"\"\"\n",
    "    \n",
    "    @abstractmethod\n",
    "    def update(self, arm, reward, context):\n",
    "        \"\"\"\n",
    "        Updates the internal state of the MAB after a play\n",
    "        \n",
    "        Arguments\n",
    "        =========\n",
    "        arm : int\n",
    "            a positive integer arm id in {1, ..., self.narms}\n",
    "        \n",
    "        reward : float\n",
    "            reward received from arm\n",
    "        \n",
    "        context : 1D float array, shape (self.ndims * self.narms), optional\n",
    "            context given to arms\n",
    "        \"\"\""
   ]
  },
  {
   "cell_type": "code",
   "execution_count": 30,
   "metadata": {},
   "outputs": [],
   "source": [
    "class EpsGreedy(MAB):\n",
    "    \"\"\"\n",
    "    Epsilon-Greedy multi-armed bandit\n",
    "\n",
    "    Arguments\n",
    "    =========\n",
    "    narms : int\n",
    "        number of arms\n",
    "\n",
    "    epsilon : float\n",
    "        explore probability\n",
    "\n",
    "    Q0 : float, optional\n",
    "        initial value for the arms\n",
    "    \"\"\"\n",
    "    #Here we are initializing a list of Qs with Q0, a list for storying rewards and making a list of list for arm rewards\n",
    "    def __init__(self, narms, epsilon, Q0=np.inf):\n",
    "        self.narms = narms\n",
    "        self.epsilon = epsilon\n",
    "        self.Q0 = Q0\n",
    "        a = [0] * narms\n",
    "        self.Qt = a\n",
    "        for i in range(narms):\n",
    "            self.Qt[i] = self.Qt[i] + Q0\n",
    "        b = [[]] * narms\n",
    "        self.armreward = b\n",
    "        for i in range(narms):\n",
    "            self.armreward[i] = self.armreward[i] + []\n",
    "        self.rewards = []\n",
    "    def play(self, tround, context=None):\n",
    "        #Here we are choosing a random number between 0.0 and 1.0\n",
    "        if np.random.random() < self.epsilon:\n",
    "            #if that random number is less than epsilon then explore\n",
    "            arms = np.random.randint(1, self.narms + 1)\n",
    "        else:\n",
    "            #otherwise exploit \n",
    "            maximum = max(self.Qt)\n",
    "            length = len(self.Qt)\n",
    "            #Here we are doing the tie breaking and returning a random arm\n",
    "            arms = [j+1 for j in range(0, length) if self.Qt[j] == maximum]\n",
    "            arms = np.random.choice(arms)  \n",
    "        return arms\n",
    "        \n",
    "    def update(self, arm, reward, context=None):\n",
    "        #Here we are storying the rewards in rewards list and incrementing reward arm by updating it\n",
    "        self.rewards.append(reward)\n",
    "        self.armreward[arm - 1].append(reward)\n",
    "        self.Qt[arm - 1] = np.mean(self.armreward[arm - 1])"
   ]
  },
  {
   "cell_type": "code",
   "execution_count": 31,
   "metadata": {},
   "outputs": [],
   "source": [
    "class UCB(MAB):\n",
    "    \"\"\"\n",
    "    Upper Confidence Bound (UCB) multi-armed bandit\n",
    "\n",
    "    Arguments\n",
    "    =========\n",
    "    narms : int\n",
    "        number of arms\n",
    "\n",
    "    rho : float\n",
    "        positive real explore-exploit parameter\n",
    "\n",
    "    Q0 : float, optional\n",
    "        initial value for the arms\n",
    "    \"\"\"\n",
    "    #Here we are initializing a list of Qs with Q0, a list for storying rewards and making a list of list for arm rewards\n",
    "    def __init__(self, narms, rho, Q0=np.inf):\n",
    "        self.narms = narms\n",
    "        self.rho = rho\n",
    "        self.Q0 = Q0\n",
    "        a = [0] * narms\n",
    "        self.Qt = a\n",
    "        for i in range(narms):\n",
    "            self.Qt[i] = self.Qt[i] + Q0\n",
    "        b = [[]] * narms\n",
    "        self.armreward = b\n",
    "        for i in range(narms):\n",
    "            self.armreward[i] = self.armreward[i] + []\n",
    "        self.rewards = []\n",
    "    def play(self, tround, context=None):\n",
    "        #Here we are estimating value of each arm j as average reward observed\n",
    "        for j in range(0, self.narms):\n",
    "            if self.Qt[j] != self.Q0:\n",
    "                a = np.log(tround) / len(self.armreward[j])\n",
    "                b = self.rho * a \n",
    "                c = np.mean(self.armreward[j]) + b ** 1/2\n",
    "                self.Qt[j] = c\n",
    "        #Here we are finding maximum Qt\n",
    "        max_value = max(self.Qt)\n",
    "        maximum_list = [j+1 for j in range(0,self.narms) if self.Qt[j] == max_value]\n",
    "        #Here we are doing the tie breaking and returning a random arm\n",
    "        arms = np.random.choice(maximum_list)\n",
    "        return arms\n",
    "    def update(self, arm, reward, context=None):\n",
    "        #Here we are storying the rewards in rewards list and incrementing reward arm by updating it\n",
    "        self.rewards.append(reward)\n",
    "        self.armreward[arm - 1].append(reward)\n",
    "        self.Qt[arm - 1] = np.mean(self.armreward[arm - 1])"
   ]
  },
  {
   "cell_type": "markdown",
   "metadata": {},
   "source": [
    "## 2. The Basic Thompson Bandit"
   ]
  },
  {
   "cell_type": "code",
   "execution_count": 32,
   "metadata": {},
   "outputs": [],
   "source": [
    "class BetaThompson(MAB):\n",
    "    \"\"\"\n",
    "    Beta-Bernoulli Thompson sampling multi-armed bandit\n",
    "\n",
    "    Arguments\n",
    "    =========\n",
    "    narms : int\n",
    "        number of arms\n",
    "\n",
    "    alpha0 : float, optional\n",
    "        positive real prior hyperparameter\n",
    "\n",
    "    beta0 : float, optional\n",
    "        positive real prior hyperparameter\n",
    "    \"\"\"\n",
    "    #Here we are initializing alpha(i) and beta(i) to alpha0 and beta0 respectively and a list for storying rewards\n",
    "    def __init__(self, narms, alpha0=1.0, beta0=1.0):\n",
    "        self.narms = narms\n",
    "        self.alpha0 = alpha0\n",
    "        self.beta0 = beta0\n",
    "        self.rewards = []\n",
    "        a = [0] * narms\n",
    "        self.alphas = a\n",
    "        for i in range(narms):\n",
    "            self.alphas[i] = self.alphas[i] + alpha0\n",
    "        b = [0] * narms\n",
    "        self.betas = b\n",
    "        for i in range(narms):\n",
    "            self.betas[i] = self.betas[i] + beta0\n",
    "    def play(self, tround, context=None):\n",
    "        c = [0] * self.narms\n",
    "        beta = c\n",
    "        for j in range(self.narms):\n",
    "            #Here we are finding beta distribution for each arm j\n",
    "            beta[j] = beta[j] + np.random.beta(self.alphas[j], self.betas[j])\n",
    "        #then we are storying maximum of beta\n",
    "        maximum_beta = max(beta)\n",
    "        #Here we are doing the tie breaking and returning a random arm\n",
    "        arms = [j+1 for j in range(len(beta)) if beta[j] == maximum_beta]\n",
    "        arms = np.random.choice(arms)\n",
    "        return arms\n",
    "        \n",
    "    def update(self, arm, reward, context=None):\n",
    "        #Here we are storying the rewards in the rewards list and updating alpha and beta according to algorithm\n",
    "        self.rewards.append(reward)\n",
    "        if reward == 0:\n",
    "            self.betas[arm - 1] = self.betas[arm - 1] + 1\n",
    "        else:\n",
    "            self.alphas[arm - 1] = self.alphas[arm - 1] + 1"
   ]
  },
  {
   "cell_type": "markdown",
   "metadata": {},
   "source": [
    "## 3. Off-Policy Evaluation"
   ]
  },
  {
   "cell_type": "code",
   "execution_count": 33,
   "metadata": {},
   "outputs": [],
   "source": [
    "#First we are loading the dataset and fetching arms, rewards and context from the data\n",
    "data = np.loadtxt('dataset.txt')\n",
    "arms = data[:,0]\n",
    "rewards = data[:,1]\n",
    "contexts = data[:,2:102]\n",
    "def offlineEvaluate(mab, arms, rewards, contexts, nrounds=None):\n",
    "    \"\"\"\n",
    "    Offline evaluation of a multi-armed bandit\n",
    "    \n",
    "    Arguments\n",
    "    =========\n",
    "    mab : instance of MAB\n",
    "    \n",
    "    arms : 1D int array, shape (nevents,) \n",
    "        integer arm id for each event\n",
    "    \n",
    "    rewards : 1D float array, shape (nevents,)\n",
    "        reward received for each event\n",
    "    \n",
    "    contexts : 2D float array, shape (nevents, mab.narms*nfeatures)\n",
    "        contexts presented to the arms (stacked horizontally) \n",
    "        for each event.\n",
    "        \n",
    "    nrounds : int, optional\n",
    "        number of matching events to evaluate `mab` on.\n",
    "    \n",
    "    Returns\n",
    "    =======\n",
    "    out : 1D float array\n",
    "        rewards for the matching events\n",
    "    \"\"\"\n",
    "    arms_index = -1\n",
    "    length = len(arms)\n",
    "    #Here we will run the loop for 10000 lines\n",
    "    for i in range(nrounds):\n",
    "        for arms_index in range(arms_index + 1, 9999):\n",
    "            #Here it checks whether the arm value is equal to context value\n",
    "            #if it is not equal then arm index is incremented and it checks next value\n",
    "            if arms[arms_index + 1] != mab.play(i, contexts[arms_index + 1]):\n",
    "                arms_index = arms_index + 1\n",
    "                continue\n",
    "            else:\n",
    "                #if they are equal then it updates the value of arm, rewards and context and increments the arm index\n",
    "                mab.update(int(arms[arms_index + 1]), int(rewards[arms_index + 1]), contexts[arms_index + 1])\n",
    "                arms_index = arms_index + 1\n",
    "                break\n",
    "        #if arm index is greater than length of arms then it breaks and return the rewards\n",
    "        if arms_index >= length:\n",
    "            break\n",
    "    return mab.rewards"
   ]
  },
  {
   "cell_type": "code",
   "execution_count": 34,
   "metadata": {},
   "outputs": [
    {
     "name": "stdout",
     "output_type": "stream",
     "text": [
      "EpsGreedy average reward 0.175\n"
     ]
    }
   ],
   "source": [
    "mab = EpsGreedy(10, 0.05)\n",
    "results_EpsGreedy = offlineEvaluate(mab, arms, rewards, contexts, 800)\n",
    "print('EpsGreedy average reward', np.mean(results_EpsGreedy))"
   ]
  },
  {
   "cell_type": "code",
   "execution_count": 35,
   "metadata": {},
   "outputs": [
    {
     "name": "stdout",
     "output_type": "stream",
     "text": [
      "UCB average reward 0.2375\n"
     ]
    }
   ],
   "source": [
    "mab = UCB(10, 1.0)\n",
    "results_UCB = offlineEvaluate(mab, arms, rewards, contexts, 800)\n",
    "print('UCB average reward', np.mean(results_UCB))"
   ]
  },
  {
   "cell_type": "code",
   "execution_count": 36,
   "metadata": {},
   "outputs": [
    {
     "name": "stdout",
     "output_type": "stream",
     "text": [
      "BetaThompson average reward 0.185\n"
     ]
    }
   ],
   "source": [
    "mab = BetaThompson(10, 1.0, 1.0)\n",
    "results_BetaThompson = offlineEvaluate(mab, arms, rewards, contexts, 800)\n",
    "print('BetaThompson average reward', np.mean(results_BetaThompson))"
   ]
  },
  {
   "cell_type": "markdown",
   "metadata": {},
   "source": [
    "## 4. Contextual Bandits - LinUCB"
   ]
  },
  {
   "cell_type": "code",
   "execution_count": 37,
   "metadata": {},
   "outputs": [],
   "source": [
    "class LinUCB(MAB):\n",
    "    \"\"\"\n",
    "    Contextual multi-armed bandit (LinUCB)\n",
    "\n",
    "    Arguments\n",
    "    =========\n",
    "    narms : int\n",
    "        number of arms\n",
    "\n",
    "    ndims : int\n",
    "        number of dimensions for each arm's context\n",
    "\n",
    "    alpha : float\n",
    "        positive real explore-exploit parameter\n",
    "    \"\"\"\n",
    "    #Here we are initializing A and b with ndims identity matrix and ndims zero vector respectively\n",
    "    #and a list for storying rewards\n",
    "    def __init__(self, narms, ndims, alpha):\n",
    "        self.narms = narms\n",
    "        self.ndims = ndims\n",
    "        self.alpha = alpha\n",
    "        self.rewards = []\n",
    "        a = [0] * narms\n",
    "        self.A = a\n",
    "        for i in range(narms):\n",
    "            self.A[i] = self.A[i] + np.identity(ndims)\n",
    "        c = [0] * narms\n",
    "        self.b = c\n",
    "        for i in range(narms):\n",
    "            self.b[i] = self.b[i] + np.zeros(ndims).reshape(ndims,1)\n",
    "    def play(self, tround, context):\n",
    "        p = [0] * self.narms\n",
    "        for j in range(self.narms):\n",
    "            #Here we are dividing context for each arm\n",
    "            lower_bound = j * self.ndims\n",
    "            upper_bound = (j + 1) * self.ndims\n",
    "            x = np.array(context[lower_bound : upper_bound])\n",
    "            #Now we are calculating theta(a) by applying the formula in algorithm\n",
    "            theta = np.dot(np.linalg.inv(self.A[j]), self.b[j])\n",
    "            #then we are calculating p(t,a) by applying the formula given\n",
    "            p[j]= p[j] + np.dot(theta.transpose(), x) + self.alpha * ((np.dot(np.dot(x.transpose(), np.linalg.inv(self.A[j])), x))) ** (1/2)\n",
    "        #Now we are storying maximum of p(t,a)\n",
    "        max_val = max(p)\n",
    "        #Here we are doing the tie breaking and returning a random arm\n",
    "        arms = [j+1 for j in range(self.narms) if p[j] == max_val]\n",
    "        arms = np.random.choice(arms)\n",
    "        return arms\n",
    "    def update(self, arm, reward, context):\n",
    "        #Here we are storying the rewards in rewards list and updating A and b according to algorithm\n",
    "        x = context[(arm-1) * self.ndims : arm * self.ndims].reshape(self.ndims, 1)\n",
    "        self.rewards.append(reward)\n",
    "        self.A[arm - 1] = self.A[arm - 1] + np.dot(x,x.transpose())\n",
    "        self.b[arm - 1] = self.b[arm - 1] + reward * x"
   ]
  },
  {
   "cell_type": "code",
   "execution_count": 38,
   "metadata": {
    "scrolled": false
   },
   "outputs": [
    {
     "name": "stdout",
     "output_type": "stream",
     "text": [
      "LinUCB average reward 0.525\n"
     ]
    }
   ],
   "source": [
    "mab = LinUCB(10, 10, 1.0)\n",
    "results_LinUCB = offlineEvaluate(mab, arms, rewards, contexts, 800)\n",
    "print('LinUCB average reward', np.mean(results_LinUCB))"
   ]
  },
  {
   "cell_type": "markdown",
   "metadata": {},
   "source": [
    "## 5. Contextual Bandits - LinThompson"
   ]
  },
  {
   "cell_type": "code",
   "execution_count": 39,
   "metadata": {},
   "outputs": [],
   "source": [
    "class LinThompson(MAB):\n",
    "    \"\"\"\n",
    "    Contextual Thompson sampled multi-armed bandit (LinThompson)\n",
    "\n",
    "    Arguments\n",
    "    =========\n",
    "    narms : int\n",
    "        number of arms\n",
    "\n",
    "    ndims : int\n",
    "        number of dimensions for each arm's context\n",
    "\n",
    "    v : float\n",
    "        positive real explore-exploit parameter\n",
    "    \"\"\"\n",
    "    #Here we are initializing B, parameter mu and f with identity, zero matrix and zero matrix respectively according to algorithm\n",
    "    #and we are initializing a list for storying rewards\n",
    "    def __init__(self, narms, ndims, v):\n",
    "        self.narms = narms\n",
    "        self.ndims = ndims\n",
    "        self.v = v\n",
    "        self.B = np.identity(ndims)\n",
    "        self.mu = np.zeros(ndims)\n",
    "        self.f = np.zeros(ndims)\n",
    "        self.rewards = []\n",
    "    def play(self, tround, context):\n",
    "        #Here we are first evaluating mu(t) which is Gaussian distribution according to algorithm\n",
    "        mu_t = np.random.multivariate_normal(np.dot(np.linalg.inv(self.B), self.f), np.square(self.v) * np.linalg.inv(self.B))\n",
    "        #Here we are finding maximum of arm a(t) by multiplying transpose of context and mu(t)\n",
    "        value = np.dot(context.reshape(self.ndims, self.narms), mu_t)\n",
    "        a_t = max(value)\n",
    "        #Here we are doing the tie breaking and returning a random arm\n",
    "        arms = [j+1 for j in range(len(value)) if value[j] == a_t]\n",
    "        arms = np.random.choice(arms)\n",
    "        return arms\n",
    "    def update(self, arm, reward, context):\n",
    "        #Here we are storying the rewards in rewards list and updating B and f according to algorithm\n",
    "        context = context.reshape(self.ndims,self.narms)\n",
    "        self.rewards.append(reward)\n",
    "        self.B = self.B + np.dot(context[arm-1], context[arm-1].transpose())\n",
    "        self.f = self.f + reward * context[arm-1]"
   ]
  },
  {
   "cell_type": "code",
   "execution_count": 40,
   "metadata": {},
   "outputs": [
    {
     "name": "stdout",
     "output_type": "stream",
     "text": [
      "LinThompson average reward 0.26125\n"
     ]
    }
   ],
   "source": [
    "mab = LinThompson(10, 10, 1.0)\n",
    "results_LinThompson = offlineEvaluate(mab, arms, rewards, contexts, 800)\n",
    "print('LinThompson average reward', np.mean(results_LinThompson))"
   ]
  },
  {
   "cell_type": "markdown",
   "metadata": {},
   "source": [
    "## 6. Evaluation\n",
    "### 6.A."
   ]
  },
  {
   "cell_type": "code",
   "execution_count": 41,
   "metadata": {},
   "outputs": [
    {
     "data": {
      "image/png": "[encoded data removed]",
      "text/plain": [
       "<Figure size 432x288 with 1 Axes>"
      ]
     },
     "metadata": {
      "needs_background": "light"
     },
     "output_type": "display_data"
    }
   ],
   "source": [
    "plt.figure()\n",
    "plt.axes()\n",
    "#Here we are storying total number of rounds in an array\n",
    "nrounds = np.arange(1, 1 + len(results_EpsGreedy))\n",
    "#We are finding the cumulative reward per round and then plotting the curve for each algorithm\n",
    "plt.plot(nrounds, np.cumsum(results_EpsGreedy) / nrounds)\n",
    "nrounds = np.arange(1, 1 + len(results_UCB))\n",
    "plt.plot(nrounds, np.cumsum(results_UCB) / nrounds)\n",
    "nrounds = np.arange(1, 1 + len(results_BetaThompson))\n",
    "plt.plot(nrounds, np.cumsum(results_BetaThompson) / nrounds)\n",
    "nrounds = np.arange(1, 1 + len(results_LinUCB))\n",
    "plt.plot(nrounds, np.cumsum(results_LinUCB) / nrounds)\n",
    "nrounds = np.arange(1, 1 + len(results_LinThompson))\n",
    "plt.plot(nrounds, np.cumsum(results_LinThompson) / nrounds)\n",
    "plt.legend(labels=(\"EpsGreedy\", \"UCB\", \"BetaThompson\", \"LinUCB\", \"LinThompson\"))\n",
    "plt.xlabel(\"Total Number of Rounds\")\n",
    "plt.ylabel(\"Average Reward\")\n",
    "plt.show()"
   ]
  },
  {
   "cell_type": "markdown",
   "metadata": {},
   "source": [
    "### 6.B."
   ]
  },
  {
   "cell_type": "code",
   "execution_count": 17,
   "metadata": {},
   "outputs": [
    {
     "data": {
      "image/png": "[encoded data removed]",
      "text/plain": [
       "<Figure size 432x288 with 1 Axes>"
      ]
     },
     "metadata": {
      "needs_background": "light"
     },
     "output_type": "display_data"
    },
    {
     "name": "stdout",
     "output_type": "stream",
     "text": [
      "LinUCB best reward is: [0.72]\n",
      "LinUCB best alpha is: [0.10050251]\n",
      "LinThompson best reward is: [0.36875]\n",
      "LinThompson best v is: [6.33165829]\n"
     ]
    }
   ],
   "source": [
    "#Making a list of alpha and v hyperparameters ranging from (0,20) with step size 0.1\n",
    "alpha = np.linspace(0, 20, 200, dtype=np.float64)\n",
    "v = np.linspace(0, 20, 200, dtype=np.float64)\n",
    "#Here we are returning the maximum average reward for LinUCB for alpha values\n",
    "def LinUCB_eval(alpha):\n",
    "    bestreward = 0\n",
    "    mab = LinUCB(10, 10, alpha)\n",
    "    results_LinUCB = offlineEvaluate(mab, arms, rewards, contexts, 800)\n",
    "    if np.mean(results_LinUCB) > bestreward:\n",
    "        bestreward = np.mean(results_LinUCB)\n",
    "    return bestreward\n",
    "#Here we are returning the maximum average reward for LinThompson for v values\n",
    "def LinThompson_eval(v):\n",
    "    bestreward = 0\n",
    "    mab = LinThompson(10, 10, v)\n",
    "    results_LinThompson = offlineEvaluate(mab, arms, rewards, contexts, 800)\n",
    "    if np.mean(results_LinThompson) > bestreward:\n",
    "        bestreward = np.mean(results_LinThompson)\n",
    "    return bestreward\n",
    "#Here we are transforming LinUCB and LinThompson function into returning array of bestrewards for alpha values\n",
    "maxrewards_LinUCB = np.vectorize(LinUCB_eval)(alpha)\n",
    "maxreward_LinThompson = np.vectorize(LinThompson_eval)(v)\n",
    "plt.figure()\n",
    "plt.plot(alpha, maxrewards_LinUCB)\n",
    "#Here we are storying the maximum reward for LinUCB and LinThompson\n",
    "maxpos1 = (maxrewards_LinUCB == maxrewards_LinUCB.max()).nonzero()\n",
    "maxpos2 = (maxreward_LinThompson== maxreward_LinThompson.max()).nonzero()\n",
    "plt.plot(v, maxreward_LinThompson)\n",
    "plt.xlabel(\"alpha/v\")\n",
    "plt.ylabel(\"average rewards\")\n",
    "plt.legend(labels=(\"LinUCB\", \"LinThompson\"))\n",
    "plt.show()\n",
    "#Here we are printing out maximum reward and the best alpha or v from the graph for LinUCB and LinThompson\n",
    "print(\"LinUCB best reward is:\",maxrewards_LinUCB[maxpos1])\n",
    "print(\"LinUCB best alpha is:\",alpha[maxpos1])\n",
    "print(\"LinThompson best reward is:\",maxreward_LinThompson[maxpos2])\n",
    "print(\"LinThompson best v is:\",v[maxpos2])"
   ]
  }
 ],
 "metadata": {
  "kernelspec": {
   "display_name": "Python 3",
   "language": "python",
   "name": "python3"
  },
  "language_info": {
   "codemirror_mode": {
    "name": "ipython",
    "version": 3
   },
   "file_extension": ".py",
   "mimetype": "text/x-python",
   "name": "python",
   "nbconvert_exporter": "python",
   "pygments_lexer": "ipython3",
   "version": "3.7.1"
  }
 },
 "nbformat": 4,
 "nbformat_minor": 2
}
